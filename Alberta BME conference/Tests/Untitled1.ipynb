{
 "cells": [
  {
   "cell_type": "code",
   "execution_count": 2,
   "metadata": {},
   "outputs": [],
   "source": [
    "import pandas as pd\n",
    "import numpy as np"
   ]
  },
  {
   "cell_type": "code",
   "execution_count": 21,
   "metadata": {},
   "outputs": [],
   "source": [
    "aal_cv = pd.read_csv('BendAAL_cv_featureselection.csv',index_col=0)\n",
    "aal_gcv = pd.read_csv('BendAAL_gcv_featureselection.csv', index_col = 0)\n",
    "db_cv = pd.read_csv('BendDosenbach_cv_featureselection.csv', index_col = 0)\n",
    "db_gcv = pd.read_csv('BendDosenbach_gcv_featureselection.csv', index_col = 0)"
   ]
  },
  {
   "cell_type": "code",
   "execution_count": 22,
   "metadata": {},
   "outputs": [
    {
     "data": {
      "text/plain": [
       "'0.7637820512820512'"
      ]
     },
     "execution_count": 22,
     "metadata": {},
     "output_type": "execute_result"
    }
   ],
   "source": [
    "db_cv.loc['avg_score'].values.max()"
   ]
  },
  {
   "cell_type": "code",
   "execution_count": 24,
   "metadata": {},
   "outputs": [
    {
     "name": "stdout",
     "output_type": "stream",
     "text": [
      "aal cv best score is 0.7292948717948718 with 30 features\n",
      "aal gcv best score is 0.7720226021234293 with 27 features\n",
      "db cv best score is 0.7637820512820512 with 22 features\n",
      "db gcv best score is 0.7436874920131675 with 18 features\n"
     ]
    }
   ],
   "source": [
    "print(f\"aal cv best score is {aal_cv.loc['avg_score'].values.max()} with {aal_cv.loc['avg_score'].values.argmax()+1} features\")\n",
    "print(f\"aal gcv best score is {aal_gcv.loc['avg_score'].values.max()} with {aal_gcv.loc['avg_score'].values.argmax()+1} features\")\n",
    "print(f\"db cv best score is {db_cv.loc['avg_score'].values.max()} with {db_cv.loc['avg_score'].values.argmax()+1} features\")\n",
    "print(f\"db gcv best score is {db_gcv.loc['avg_score'].values.max()} with {db_gcv.loc['avg_score'].values.argmax()+1} features\")"
   ]
  },
  {
   "cell_type": "code",
   "execution_count": null,
   "metadata": {},
   "outputs": [],
   "source": []
  }
 ],
 "metadata": {
  "kernelspec": {
   "display_name": "Python 3",
   "language": "python",
   "name": "python3"
  },
  "language_info": {
   "codemirror_mode": {
    "name": "ipython",
    "version": 3
   },
   "file_extension": ".py",
   "mimetype": "text/x-python",
   "name": "python",
   "nbconvert_exporter": "python",
   "pygments_lexer": "ipython3",
   "version": "3.6.5"
  }
 },
 "nbformat": 4,
 "nbformat_minor": 2
}
