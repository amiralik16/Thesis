{
 "cells": [
  {
   "cell_type": "code",
   "execution_count": 1,
   "metadata": {
    "collapsed": true
   },
   "outputs": [],
   "source": [
    "import pandas as pd\n",
    "import numpy as np\n",
    "import os"
   ]
  },
  {
   "cell_type": "markdown",
   "metadata": {},
   "source": [
    "## Loading the Data and Preprocessing for ML"
   ]
  },
  {
   "cell_type": "code",
   "execution_count": 2,
   "metadata": {
    "collapsed": true
   },
   "outputs": [],
   "source": [
    "#Load the graph variables and Demographic variables\n",
    "Dosenbach_path = os.getcwd() + '\\\\Dosenbach'\n",
    "AAL_path = os.getcwd() + '\\\\AAL'\n",
    "\n",
    "Dosenbach_df = pd.read_excel(Dosenbach_path + '\\\\globalVariables.xls',sheetname='0.2')\n",
    "AAL_df = pd.read_excel(AAL_path + '\\\\globalVariables.xls',sheetname='0.2')\n",
    "\n",
    "Vars = pd.read_csv('Variables_Prepd.csv')"
   ]
  },
  {
   "cell_type": "code",
   "execution_count": 3,
   "metadata": {
    "collapsed": true
   },
   "outputs": [],
   "source": [
    "def name_parser(s):\n",
    "    '''\n",
    "    pass\n",
    "    '''\n",
    "    b = s.replace('CorrMatrix_','')\n",
    "    b = b[:b.find('_rois')]\n",
    "    return b\n",
    "\n",
    "def add_meta_data(df):\n",
    "    '''\n",
    "    pass\n",
    "    '''\n",
    "    temp_df = df.reset_index()\n",
    "    temp_df['FILE_ID'] = temp_df['index'].apply(name_parser)\n",
    "    temp_df['SITE_ID'] = temp_df['FILE_ID'].apply(lambda s: s.split('_')[0].upper())\n",
    "    temp_df['subject'] = temp_df['FILE_ID'].apply(lambda s: s[s.find('_00')+3:])\n",
    "    temp_df.set_index('index',inplace=True)\n",
    "    return temp_df\n",
    "    "
   ]
  },
  {
   "cell_type": "code",
   "execution_count": 4,
   "metadata": {
    "collapsed": true
   },
   "outputs": [],
   "source": [
    "#Parse the index to add the meta data\n",
    "Dosenbach_df = add_meta_data(Dosenbach_df)\n",
    "AAL_df = add_meta_data(AAL_df)"
   ]
  },
  {
   "cell_type": "code",
   "execution_count": 5,
   "metadata": {
    "collapsed": true
   },
   "outputs": [],
   "source": [
    "#Add usefull demographic data to the dataframes\n",
    "Dosenbach_df = pd.merge(Dosenbach_df,Vars[['FILE_ID','DX_GROUP','SEX', 'AGE_AT_SCAN']],on='FILE_ID')\n",
    "AAL_df = pd.merge(AAL_df,Vars[['FILE_ID','DX_GROUP','SEX', 'AGE_AT_SCAN']],on='FILE_ID')"
   ]
  },
  {
   "cell_type": "code",
   "execution_count": 6,
   "metadata": {
    "collapsed": true
   },
   "outputs": [],
   "source": [
    "#Only keep the male subject data in requested sites"
   ]
  },
  {
   "cell_type": "code",
   "execution_count": 7,
   "metadata": {
    "collapsed": true
   },
   "outputs": [],
   "source": [
    "def select_subjects(df, sites=None, sex=None, age_range=None, group=None):\n",
    "    '''\n",
    "    pass\n",
    "    '''\n",
    "    \n",
    "    dictionary = d = {'m': 1, 'f': 2, 'ASD': 1, 'HC': 2} #dict for transforming the inputs to values found in the df\n",
    "    #Fill the variables in such a way that it selects all subjects\n",
    "    if sites == None: \n",
    "        sites = list(df.SITE_ID.unique())\n",
    "    if sex == None:\n",
    "        sex = ['m','f']\n",
    "    if age_range == None:\n",
    "        age_range = (0,150)\n",
    "    if group == None:\n",
    "        group = ['HC','ASD']\n",
    "    \n",
    "    #Actual code\n",
    "    if isinstance(group, list) == False:\n",
    "        group = group.split()\n",
    "    sex = list(map(dictionary.get,sex))\n",
    "    group = list(map(dictionary.get,group))\n",
    "    \n",
    "    return df[(df['SITE_ID'].isin(sites)) & \n",
    "              (df['SEX'].isin(sex)) & \n",
    "              (df['AGE_AT_SCAN'].between(age_range[0], age_range[1])) & \n",
    "              (df['DX_GROUP'].isin(group)) \n",
    "             ]"
   ]
  },
  {
   "cell_type": "markdown",
   "metadata": {},
   "source": [
    "# Experiment 1\n",
    "**Simple Cross Validation**"
   ]
  },
  {
   "cell_type": "code",
   "execution_count": 8,
   "metadata": {
    "collapsed": true
   },
   "outputs": [],
   "source": [
    "data = select_subjects(Dosenbach_df,sex='m',sites=['YALE','PITT','NYU','CALTECH','TRINITY'])\n",
    "X = data.drop(['DX_GROUP','SEX','AGE_AT_SCAN','FILE_ID','SITE_ID'],axis=1)\n",
    "y = data['DX_GROUP']"
   ]
  },
  {
   "cell_type": "code",
   "execution_count": 9,
   "metadata": {},
   "outputs": [
    {
     "data": {
      "text/plain": [
       "array([0.5862069 , 0.62068966, 0.62068966, 0.60714286, 0.78571429,\n",
       "       0.82142857, 0.75      , 0.78571429, 0.7037037 , 0.51851852])"
      ]
     },
     "execution_count": 9,
     "metadata": {},
     "output_type": "execute_result"
    }
   ],
   "source": [
    "from sklearn.model_selection import cross_val_score\n",
    "from sklearn.svm import SVC\n",
    "clf = SVC()\n",
    "cross_val_score(clf,X,y,cv=10)\n"
   ]
  },
  {
   "cell_type": "code",
   "execution_count": null,
   "metadata": {},
   "outputs": [
    {
     "name": "stdout",
     "output_type": "stream",
     "text": [
      "Fitting 10 folds for each of 40 candidates, totalling 400 fits\n"
     ]
    },
    {
     "name": "stderr",
     "output_type": "stream",
     "text": [
      "[Parallel(n_jobs=-1)]: Done  16 tasks      | elapsed:    6.4s\n"
     ]
    }
   ],
   "source": [
    "from sklearn.model_selection import GridSearchCV\n",
    "parameters = {'kernel':('linear', 'rbf'), 'C':[1, 10], 'gamma':['auto', 0.01, 0.1]}\n",
    "clf = GridSearchCV(SVC(), parameters,cv=10, verbose=3,n_jobs=-1)\n",
    "clf.fit(X,y)"
   ]
  },
  {
   "cell_type": "code",
   "execution_count": null,
   "metadata": {
    "collapsed": true
   },
   "outputs": [],
   "source": []
  },
  {
   "cell_type": "markdown",
   "metadata": {},
   "source": [
    "# Experiment 2"
   ]
  },
  {
   "cell_type": "code",
   "execution_count": 110,
   "metadata": {
    "collapsed": true
   },
   "outputs": [],
   "source": [
    "data = select_subjects(Dosenbach_df,sex='m',sites=['YALE','PITT','NYU','CALTECH','TRINITY'])\n",
    "groups = data.groupby('SITE_ID')"
   ]
  },
  {
   "cell_type": "code",
   "execution_count": 139,
   "metadata": {},
   "outputs": [
    {
     "data": {
      "text/html": [
       "<div>\n",
       "<style>\n",
       "    .dataframe thead tr:only-child th {\n",
       "        text-align: right;\n",
       "    }\n",
       "\n",
       "    .dataframe thead th {\n",
       "        text-align: left;\n",
       "    }\n",
       "\n",
       "    .dataframe tbody tr th {\n",
       "        vertical-align: top;\n",
       "    }\n",
       "</style>\n",
       "<table border=\"1\" class=\"dataframe\">\n",
       "  <thead>\n",
       "    <tr style=\"text-align: right;\">\n",
       "      <th></th>\n",
       "      <th>count</th>\n",
       "      <th>mean</th>\n",
       "      <th>std</th>\n",
       "      <th>min</th>\n",
       "      <th>25%</th>\n",
       "      <th>50%</th>\n",
       "      <th>75%</th>\n",
       "      <th>max</th>\n",
       "    </tr>\n",
       "    <tr>\n",
       "      <th>DX_GROUP</th>\n",
       "      <th></th>\n",
       "      <th></th>\n",
       "      <th></th>\n",
       "      <th></th>\n",
       "      <th></th>\n",
       "      <th></th>\n",
       "      <th></th>\n",
       "      <th></th>\n",
       "    </tr>\n",
       "  </thead>\n",
       "  <tbody>\n",
       "    <tr>\n",
       "      <th>1</th>\n",
       "      <td>33.0</td>\n",
       "      <td>14.806182</td>\n",
       "      <td>7.400520</td>\n",
       "      <td>7.13</td>\n",
       "      <td>9.580</td>\n",
       "      <td>12.75</td>\n",
       "      <td>17.880</td>\n",
       "      <td>39.10</td>\n",
       "    </tr>\n",
       "    <tr>\n",
       "      <th>2</th>\n",
       "      <td>35.0</td>\n",
       "      <td>15.101143</td>\n",
       "      <td>5.861753</td>\n",
       "      <td>7.29</td>\n",
       "      <td>10.745</td>\n",
       "      <td>13.72</td>\n",
       "      <td>17.115</td>\n",
       "      <td>30.08</td>\n",
       "    </tr>\n",
       "  </tbody>\n",
       "</table>\n",
       "</div>"
      ],
      "text/plain": [
       "          count       mean       std   min     25%    50%     75%    max\n",
       "DX_GROUP                                                                \n",
       "1          33.0  14.806182  7.400520  7.13   9.580  12.75  17.880  39.10\n",
       "2          35.0  15.101143  5.861753  7.29  10.745  13.72  17.115  30.08"
      ]
     },
     "execution_count": 139,
     "metadata": {},
     "output_type": "execute_result"
    }
   ],
   "source": [
    "#data[data.SITE_ID == 'NYU'].sample(frac=0.5,random_state=7).groupby('DX_GROUP')['AGE_AT_SCAN'].describe()\n",
    "#Split the NYU data into two groups\n",
    "data.loc[data[data.SITE_ID == 'NYU'].sample(frac=0.5,random_state=7).index,'SITE_ID'] = 'NYU2'"
   ]
  },
  {
   "cell_type": "code",
   "execution_count": 167,
   "metadata": {
    "collapsed": true
   },
   "outputs": [],
   "source": [
    "groups = data.groupby('SITE_ID')\n",
    "groupnames = list(groups.groups)"
   ]
  },
  {
   "cell_type": "code",
   "execution_count": 166,
   "metadata": {
    "collapsed": true
   },
   "outputs": [],
   "source": [
    "groupnames = list(groups.groups)"
   ]
  },
  {
   "cell_type": "code",
   "execution_count": 105,
   "metadata": {
    "collapsed": true
   },
   "outputs": [],
   "source": [
    "d = {'sites': ['NYU', 'PLITT'],'df': [Dosenbach_df,AAL_df]}"
   ]
  },
  {
   "cell_type": "code",
   "execution_count": 106,
   "metadata": {
    "collapsed": true
   },
   "outputs": [],
   "source": [
    "m =map(select_subjects,d)"
   ]
  },
  {
   "cell_type": "code",
   "execution_count": 107,
   "metadata": {},
   "outputs": [
    {
     "ename": "AttributeError",
     "evalue": "'str' object has no attribute 'SITE_ID'",
     "output_type": "error",
     "traceback": [
      "\u001b[1;31m---------------------------------------------------------------------------\u001b[0m",
      "\u001b[1;31mAttributeError\u001b[0m                            Traceback (most recent call last)",
      "\u001b[1;32m<ipython-input-107-150120f9fb24>\u001b[0m in \u001b[0;36m<module>\u001b[1;34m()\u001b[0m\n\u001b[1;32m----> 1\u001b[1;33m \u001b[0mlist\u001b[0m\u001b[1;33m(\u001b[0m\u001b[0mm\u001b[0m\u001b[1;33m)\u001b[0m\u001b[1;33m\u001b[0m\u001b[0m\n\u001b[0m",
      "\u001b[1;32m<ipython-input-95-ec7e2f6a095a>\u001b[0m in \u001b[0;36mselect_subjects\u001b[1;34m(df, sites, sex, age_range, group)\u001b[0m\n\u001b[0;32m      7\u001b[0m     \u001b[1;31m#Fill the variables in such a way that it selects all subjects\u001b[0m\u001b[1;33m\u001b[0m\u001b[1;33m\u001b[0m\u001b[0m\n\u001b[0;32m      8\u001b[0m     \u001b[1;32mif\u001b[0m \u001b[0msites\u001b[0m \u001b[1;33m==\u001b[0m \u001b[1;32mNone\u001b[0m\u001b[1;33m:\u001b[0m\u001b[1;33m\u001b[0m\u001b[0m\n\u001b[1;32m----> 9\u001b[1;33m         \u001b[0msites\u001b[0m \u001b[1;33m=\u001b[0m \u001b[0mlist\u001b[0m\u001b[1;33m(\u001b[0m\u001b[0mdf\u001b[0m\u001b[1;33m.\u001b[0m\u001b[0mSITE_ID\u001b[0m\u001b[1;33m.\u001b[0m\u001b[0munique\u001b[0m\u001b[1;33m(\u001b[0m\u001b[1;33m)\u001b[0m\u001b[1;33m)\u001b[0m\u001b[1;33m\u001b[0m\u001b[0m\n\u001b[0m\u001b[0;32m     10\u001b[0m     \u001b[1;32mif\u001b[0m \u001b[0msex\u001b[0m \u001b[1;33m==\u001b[0m \u001b[1;32mNone\u001b[0m\u001b[1;33m:\u001b[0m\u001b[1;33m\u001b[0m\u001b[0m\n\u001b[0;32m     11\u001b[0m         \u001b[0msex\u001b[0m \u001b[1;33m=\u001b[0m \u001b[1;33m[\u001b[0m\u001b[1;34m'm'\u001b[0m\u001b[1;33m,\u001b[0m\u001b[1;34m'f'\u001b[0m\u001b[1;33m]\u001b[0m\u001b[1;33m\u001b[0m\u001b[0m\n",
      "\u001b[1;31mAttributeError\u001b[0m: 'str' object has no attribute 'SITE_ID'"
     ]
    }
   ],
   "source": [
    "list(m)"
   ]
  },
  {
   "cell_type": "code",
   "execution_count": null,
   "metadata": {
    "collapsed": true
   },
   "outputs": [],
   "source": []
  }
 ],
 "metadata": {
  "kernelspec": {
   "display_name": "Python 3",
   "language": "python",
   "name": "python3"
  },
  "language_info": {
   "codemirror_mode": {
    "name": "ipython",
    "version": 3
   },
   "file_extension": ".py",
   "mimetype": "text/x-python",
   "name": "python",
   "nbconvert_exporter": "python",
   "pygments_lexer": "ipython3",
   "version": "3.6.2"
  }
 },
 "nbformat": 4,
 "nbformat_minor": 2
}
