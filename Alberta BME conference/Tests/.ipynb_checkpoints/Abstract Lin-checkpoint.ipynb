{
 "cells": [
  {
   "cell_type": "code",
   "execution_count": 1,
   "metadata": {},
   "outputs": [],
   "source": [
    "import numpy as np\n",
    "import pandas as pd\n",
    "import matplotlib.pyplot as plt\n",
    "%matplotlib inline"
   ]
  },
  {
   "cell_type": "code",
   "execution_count": 2,
   "metadata": {},
   "outputs": [],
   "source": [
    "def select_subjects(df, sites=None, sex=None, age_range=None, group=None):\n",
    "    '''\n",
    "    pass\n",
    "    '''\n",
    "    \n",
    "    dictionary = d = {'m': 1, 'f': 2, 'ASD': 1, 'HC': 2} #dict for transforming the inputs to values found in the df\n",
    "    #Fill the variables in such a way that it selects all subjects\n",
    "    if sites == None: \n",
    "        sites = list(df.SITE_ID.unique())\n",
    "    if sex == None:\n",
    "        sex = ['m','f']\n",
    "    if age_range == None:\n",
    "        age_range = (0,150)\n",
    "    if group == None:\n",
    "        group = ['HC','ASD']\n",
    "    \n",
    "    #Actual code\n",
    "    if isinstance(group, list) == False:\n",
    "        group = group.split()\n",
    "    sex = list(map(dictionary.get,sex))\n",
    "    group = list(map(dictionary.get,group))\n",
    "    \n",
    "    return df[(df['SITE_ID'].isin(sites)) & \n",
    "              (df['SEX'].isin(sex)) & \n",
    "              (df['AGE_AT_SCAN'].between(age_range[0], age_range[1])) & \n",
    "              (df['DX_GROUP'].isin(group)) \n",
    "             ]"
   ]
  },
  {
   "cell_type": "code",
   "execution_count": 3,
   "metadata": {},
   "outputs": [],
   "source": [
    "Dosenbach_df = pd.read_csv('BendDosenbach.csv',index_col=0)\n",
    "AAL_df = pd.read_csv('BendAAL.csv',index_col=0)"
   ]
  },
  {
   "cell_type": "code",
   "execution_count": null,
   "metadata": {},
   "outputs": [],
   "source": []
  },
  {
   "cell_type": "code",
   "execution_count": 39,
   "metadata": {},
   "outputs": [],
   "source": [
    "data = select_subjects(Dosenbach_df,sex='m',sites=['YALE','PITT','NYU','TRINITY','STANFORD','UCLA1','SDSU','UM1'])\n",
    "X = data.drop(['DX_GROUP','SEX','AGE_AT_SCAN','FILE_ID','SITE_ID','subject'],axis=1)\n",
    "y = data['DX_GROUP']"
   ]
  },
  {
   "cell_type": "code",
   "execution_count": 5,
   "metadata": {},
   "outputs": [],
   "source": [
    "from sklearn.model_selection import KFold\n",
    "cv = KFold(n_splits=10,random_state=101)"
   ]
  },
  {
   "cell_type": "code",
   "execution_count": 43,
   "metadata": {},
   "outputs": [
    {
     "name": "stderr",
     "output_type": "stream",
     "text": [
      "[Parallel(n_jobs=-1)]: Done  25 tasks      | elapsed:    2.6s\n",
      "[Parallel(n_jobs=-1)]: Done 567 tasks      | elapsed:    4.5s\n",
      "[Parallel(n_jobs=-1)]: Done 966 out of 966 | elapsed:    5.6s finished\n",
      "\n",
      "[2018-08-22 17:08:06] Features: 1/15 -- score: 0.545448717948718[Parallel(n_jobs=-1)]: Done  25 tasks      | elapsed:    2.6s\n",
      "[Parallel(n_jobs=-1)]: Done 567 tasks      | elapsed:    4.3s\n",
      "[Parallel(n_jobs=-1)]: Done 965 out of 965 | elapsed:    5.4s finished\n",
      "[Parallel(n_jobs=-1)]: Done   1 out of   1 | elapsed:    0.6s finished\n",
      "\n",
      "[2018-08-22 17:08:13] Features: 2/15 -- score: 0.5931410256410257[Parallel(n_jobs=-1)]: Done  25 tasks      | elapsed:    2.6s\n",
      "[Parallel(n_jobs=-1)]: Done 964 out of 964 | elapsed:    5.4s finished\n",
      "[Parallel(n_jobs=-1)]: Done   2 out of   2 | elapsed:    1.0s finished\n",
      "\n",
      "[2018-08-22 17:08:20] Features: 3/15 -- score: 0.6084615384615384[Parallel(n_jobs=-1)]: Done  25 tasks      | elapsed:    2.5s\n",
      "[Parallel(n_jobs=-1)]: Done 567 tasks      | elapsed:    4.3s\n",
      "[Parallel(n_jobs=-1)]: Done 963 out of 963 | elapsed:    5.5s finished\n",
      "[Parallel(n_jobs=-1)]: Done   3 out of   3 | elapsed:    1.2s finished\n",
      "\n",
      "[2018-08-22 17:08:27] Features: 4/15 -- score: 0.6160897435897436[Parallel(n_jobs=-1)]: Done  25 tasks      | elapsed:    2.6s\n",
      "[Parallel(n_jobs=-1)]: Done 567 tasks      | elapsed:    4.4s\n",
      "[Parallel(n_jobs=-1)]: Done 962 out of 962 | elapsed:    5.6s finished\n",
      "[Parallel(n_jobs=-1)]: Done   4 out of   4 | elapsed:    1.4s remaining:    0.0s\n",
      "[Parallel(n_jobs=-1)]: Done   4 out of   4 | elapsed:    1.4s finished\n",
      "\n",
      "[2018-08-22 17:08:34] Features: 5/15 -- score: 0.6185897435897436[Parallel(n_jobs=-1)]: Done  25 tasks      | elapsed:    2.6s\n",
      "[Parallel(n_jobs=-1)]: Done 562 tasks      | elapsed:    4.4s\n",
      "[Parallel(n_jobs=-1)]: Done 961 out of 961 | elapsed:    5.6s finished\n",
      "[Parallel(n_jobs=-1)]: Done   2 out of   5 | elapsed:    0.9s remaining:    1.4s\n",
      "[Parallel(n_jobs=-1)]: Done   5 out of   5 | elapsed:    1.7s remaining:    0.0s\n",
      "[Parallel(n_jobs=-1)]: Done   5 out of   5 | elapsed:    1.7s finished\n",
      "\n",
      "[2018-08-22 17:08:42] Features: 6/15 -- score: 0.6210897435897437[Parallel(n_jobs=-1)]: Done  25 tasks      | elapsed:    2.6s\n",
      "[Parallel(n_jobs=-1)]: Done 567 tasks      | elapsed:    4.5s\n",
      "[Parallel(n_jobs=-1)]: Done 960 out of 960 | elapsed:    5.7s finished\n",
      "[Parallel(n_jobs=-1)]: Done   3 out of   6 | elapsed:    1.2s remaining:    1.2s\n",
      "[Parallel(n_jobs=-1)]: Done   6 out of   6 | elapsed:    2.0s finished\n",
      "\n",
      "[2018-08-22 17:08:50] Features: 7/15 -- score: 0.6237179487179487[Parallel(n_jobs=-1)]: Done  25 tasks      | elapsed:    2.6s\n",
      "[Parallel(n_jobs=-1)]: Done 567 tasks      | elapsed:    4.5s\n",
      "[Parallel(n_jobs=-1)]: Done 959 out of 959 | elapsed:    5.8s finished\n",
      "[Parallel(n_jobs=-1)]: Done   4 out of   7 | elapsed:    1.5s remaining:    1.1s\n",
      "[Parallel(n_jobs=-1)]: Done   7 out of   7 | elapsed:    2.2s finished\n",
      "\n",
      "[2018-08-22 17:08:59] Features: 8/15 -- score: 0.6287179487179488[Parallel(n_jobs=-1)]: Done  25 tasks      | elapsed:    2.6s\n",
      "[Parallel(n_jobs=-1)]: Done 562 tasks      | elapsed:    4.6s\n",
      "[Parallel(n_jobs=-1)]: Done 958 out of 958 | elapsed:    5.9s finished\n",
      "[Parallel(n_jobs=-1)]: Done   3 out of   8 | elapsed:    1.2s remaining:    2.1s\n",
      "[Parallel(n_jobs=-1)]: Done   8 out of   8 | elapsed:    2.5s remaining:    0.0s\n",
      "[Parallel(n_jobs=-1)]: Done   8 out of   8 | elapsed:    2.5s finished\n",
      "\n",
      "[2018-08-22 17:09:08] Features: 9/15 -- score: 0.6287179487179488[Parallel(n_jobs=-1)]: Done  25 tasks      | elapsed:    2.6s\n",
      "[Parallel(n_jobs=-1)]: Done 567 tasks      | elapsed:    4.5s\n",
      "[Parallel(n_jobs=-1)]: Done 957 out of 957 | elapsed:    5.8s finished\n",
      "[Parallel(n_jobs=-1)]: Done   4 out of   9 | elapsed:    1.5s remaining:    1.9s\n",
      "[Parallel(n_jobs=-1)]: Done   9 out of   9 | elapsed:    2.5s remaining:    0.0s\n",
      "[Parallel(n_jobs=-1)]: Done   9 out of   9 | elapsed:    2.5s finished\n",
      "\n",
      "[2018-08-22 17:09:17] Features: 10/15 -- score: 0.6262179487179488[Parallel(n_jobs=-1)]: Done  25 tasks      | elapsed:    2.6s\n",
      "[Parallel(n_jobs=-1)]: Done 567 tasks      | elapsed:    4.6s\n",
      "[Parallel(n_jobs=-1)]: Done 956 out of 956 | elapsed:    5.9s finished\n",
      "[Parallel(n_jobs=-1)]: Done   7 out of  10 | elapsed:    2.2s remaining:    0.9s\n",
      "[Parallel(n_jobs=-1)]: Done  10 out of  10 | elapsed:    2.5s finished\n",
      "\n",
      "[2018-08-22 17:09:26] Features: 11/15 -- score: 0.6262179487179488[Parallel(n_jobs=-1)]: Done  25 tasks      | elapsed:    2.6s\n",
      "[Parallel(n_jobs=-1)]: Done 562 tasks      | elapsed:    4.8s\n",
      "[Parallel(n_jobs=-1)]: Done 940 out of 955 | elapsed:    6.2s remaining:    0.0s\n",
      "[Parallel(n_jobs=-1)]: Done 955 out of 955 | elapsed:    6.2s finished\n",
      "[Parallel(n_jobs=-1)]: Done   2 out of  11 | elapsed:    1.0s remaining:    4.7s\n",
      "[Parallel(n_jobs=-1)]: Done   8 out of  11 | elapsed:    2.5s remaining:    0.9s\n",
      "[Parallel(n_jobs=-1)]: Done  11 out of  11 | elapsed:    2.5s finished\n",
      "\n",
      "[2018-08-22 17:09:35] Features: 12/15 -- score: 0.6237820512820512[Parallel(n_jobs=-1)]: Done  25 tasks      | elapsed:    2.6s\n",
      "[Parallel(n_jobs=-1)]: Done 562 tasks      | elapsed:    4.6s\n",
      "[Parallel(n_jobs=-1)]: Done 954 out of 954 | elapsed:    5.9s finished\n",
      "[Parallel(n_jobs=-1)]: Done   4 out of  12 | elapsed:    1.4s remaining:    3.0s\n",
      "[Parallel(n_jobs=-1)]: Done  12 out of  12 | elapsed:    2.5s finished\n",
      "\n",
      "[2018-08-22 17:09:44] Features: 13/15 -- score: 0.6263461538461538[Parallel(n_jobs=-1)]: Done  25 tasks      | elapsed:    2.6s\n",
      "[Parallel(n_jobs=-1)]: Done 562 tasks      | elapsed:    4.7s\n",
      "[Parallel(n_jobs=-1)]: Done 953 out of 953 | elapsed:    6.1s finished\n",
      "[Parallel(n_jobs=-1)]: Done   5 out of  13 | elapsed:    1.8s remaining:    3.0s\n",
      "[Parallel(n_jobs=-1)]: Done  13 out of  13 | elapsed:    2.7s finished\n",
      "\n",
      "[2018-08-22 17:09:54] Features: 14/15 -- score: 0.6237820512820512[Parallel(n_jobs=-1)]: Done  25 tasks      | elapsed:    2.7s\n",
      "[Parallel(n_jobs=-1)]: Done 399 tasks      | elapsed:    4.5s\n",
      "[Parallel(n_jobs=-1)]: Done 952 out of 952 | elapsed:    6.9s finished\n",
      "[Parallel(n_jobs=-1)]: Done   7 out of  14 | elapsed:    2.4s remaining:    2.4s\n",
      "[Parallel(n_jobs=-1)]: Done  14 out of  14 | elapsed:    2.7s finished\n",
      "\n",
      "[2018-08-22 17:10:04] Features: 15/15 -- score: 0.6211538461538462"
     ]
    }
   ],
   "source": [
    "from sklearn.pipeline import make_pipeline\n",
    "from sklearn.preprocessing import StandardScaler,Normalizer\n",
    "from sklearn.svm import SVC,LinearSVC\n",
    "from mlxtend.feature_selection import SequentialFeatureSelector as SFS\n",
    "\n",
    "scaler = StandardScaler()\n",
    "X = scaler.fit_transform(X)\n",
    "svc_rbf = make_pipeline(LinearSVC(random_state = 101,dual=False,C=1,penalty='l1'))\n",
    "\n",
    "sfs = SFS(svc_rbf, \n",
    "           k_features=(1,15), \n",
    "           forward=True, \n",
    "           floating=True, \n",
    "           verbose=2,\n",
    "           scoring='accuracy',\n",
    "           cv=cv,n_jobs=-1)\n",
    "\n",
    "sfs = sfs.fit(X, y.values)"
   ]
  },
  {
   "cell_type": "code",
   "execution_count": 36,
   "metadata": {},
   "outputs": [
    {
     "data": {
      "text/plain": [
       "0.49705128205128196"
      ]
     },
     "execution_count": 36,
     "metadata": {},
     "output_type": "execute_result"
    }
   ],
   "source": [
    "from sklearn.model_selection import cross_val_score\n",
    "cross_val_score(estimator=svc_rbf,X=X,y=y,cv=cv).mean()"
   ]
  },
  {
   "cell_type": "code",
   "execution_count": 42,
   "metadata": {},
   "outputs": [
    {
     "data": {
      "text/plain": [
       "array([[ 0.0141776 ,  1.61319856,  1.56357253, ..., -1.22218066,\n",
       "        -1.44835927, -0.42855828],\n",
       "       [ 2.83899962,  1.325862  ,  1.48901451, ..., -0.59883618,\n",
       "        -2.05777411, -1.18370647],\n",
       "       [ 0.77798536,  1.11259987,  1.14503087, ...,  0.40084586,\n",
       "         0.45542859,  0.30964144],\n",
       "       ...,\n",
       "       [-0.72690102, -0.60625486, -0.61724982, ...,  0.59541766,\n",
       "         0.47954698,  1.1514903 ],\n",
       "       [ 0.29381785, -0.36890201, -0.49016227, ...,  0.9849999 ,\n",
       "         0.52113638,  0.73643496],\n",
       "       [-0.82000164, -0.61080389, -0.40204824, ..., -0.35535005,\n",
       "         0.65209648, -1.48878776]])"
      ]
     },
     "execution_count": 42,
     "metadata": {},
     "output_type": "execute_result"
    }
   ],
   "source": [
    "X"
   ]
  },
  {
   "cell_type": "code",
   "execution_count": null,
   "metadata": {},
   "outputs": [],
   "source": []
  }
 ],
 "metadata": {
  "kernelspec": {
   "display_name": "Python 3",
   "language": "python",
   "name": "python3"
  },
  "language_info": {
   "codemirror_mode": {
    "name": "ipython",
    "version": 3
   },
   "file_extension": ".py",
   "mimetype": "text/x-python",
   "name": "python",
   "nbconvert_exporter": "python",
   "pygments_lexer": "ipython3",
   "version": "3.6.5"
  }
 },
 "nbformat": 4,
 "nbformat_minor": 2
}
